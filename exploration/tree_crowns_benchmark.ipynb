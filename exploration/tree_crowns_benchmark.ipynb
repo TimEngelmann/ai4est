{
 "cells": [
  {
   "cell_type": "code",
   "execution_count": null,
   "metadata": {
    "collapsed": true
   },
   "outputs": [],
   "source": [
    "import numpy as np\n",
    "import cv2\n",
    "import pandas as pd\n",
    "import matplotlib.pyplot as plt\n",
    "import torch\n",
    "from IPython import embed\n",
    "from torchvision.transforms import ToTensor, Compose, CenterCrop, Pad, Resize\n",
    "from sklearn.model_selection import train_test_split\n",
    "from torch.utils.data import Dataset, DataLoader\n",
    "from data_split import create_split_dataframe\n"
   ]
  },
  {
   "cell_type": "code",
   "execution_count": null,
   "outputs": [],
   "source": [
    "## create unpadded images first by adding the following lines to main\n",
    "#masking the drone image using the boundary\n",
    "# with rasterio.open(img_path) as raster:\n",
    "#     img, _ = rasterio.mask.mask(raster, boundary, crop=False)\n",
    "#\n",
    "# unpadded_img= img\n",
    "# img = pad(img, patch_size) #padding image to make patches even\n",
    "# carbon_distribution = compute_carbon_distribution(site, img.shape, trees, mean, covariance)\n",
    "#\n",
    "# assert img.shape[1:] == carbon_distribution.shape\n",
    "#\n",
    "# np.save(paths[\"dataset\"] + \"sites/\" + f\"{site}_carbon\", carbon_distribution)\n",
    "#\n",
    "# im = Image.fromarray(np.moveaxis(img, 0, -1)[:,:,:3])\n",
    "# im_unpadded= Image.fromarray(np.moveaxis(unpadded_img, 0, -1)[:,:,:3])\n",
    "# im.save(paths[\"dataset\"] + \"sites/\" + f\"{site}_image.png\")\n",
    "# im_unpadded.save(paths[\"dataset\"] + \"sites/\" + f\"{site}_unpadded_image.png\")\n"
   ],
   "metadata": {
    "collapsed": false
   }
  },
  {
   "cell_type": "code",
   "execution_count": null,
   "outputs": [],
   "source": [
    "path_to_dataset=\"/Users/victoriabarenne/ai4good/dataset/\"\n",
    "path_to_refores= \"/Users/victoriabarenne/ai4good/reforesTree/\""
   ],
   "metadata": {
    "collapsed": false
   }
  },
  {
   "cell_type": "code",
   "execution_count": null,
   "outputs": [],
   "source": [
    "final_df= pd.read_csv(path_to_refores+\"mapping/final_dataset.csv\")"
   ],
   "metadata": {
    "collapsed": false
   }
  },
  {
   "cell_type": "code",
   "execution_count": null,
   "outputs": [],
   "source": [
    "final_df.head()\n"
   ],
   "metadata": {
    "collapsed": false
   }
  },
  {
   "cell_type": "code",
   "execution_count": 103,
   "outputs": [
    {
     "data": {
      "text/plain": "                  img_name         Xmin          Ymin         Xmax  \\\n0  Carlos Vera Guevara RGB  3332.557861   8324.092411  3661.390137   \n1  Carlos Vera Guevara RGB  3162.579834  10453.233398  3431.632324   \n2  Carlos Vera Guevara RGB  2893.605713   8549.011108  3095.620605   \n3  Carlos Vera Guevara RGB  2595.111084  10008.712402  2765.227295   \n4  Carlos Vera Guevara RGB  7849.691879   7723.626862  8039.557648   \n\n           Ymax        AGB    carbon  \n0   8669.616425   4.293300  1.674387  \n1  10684.467041   7.702971  3.004159  \n2   8756.257812   6.769828  2.640233  \n3  10170.253418   3.933601  1.534104  \n4   7902.768402  13.862143  5.406236  ",
      "text/html": "<div>\n<style scoped>\n    .dataframe tbody tr th:only-of-type {\n        vertical-align: middle;\n    }\n\n    .dataframe tbody tr th {\n        vertical-align: top;\n    }\n\n    .dataframe thead th {\n        text-align: right;\n    }\n</style>\n<table border=\"1\" class=\"dataframe\">\n  <thead>\n    <tr style=\"text-align: right;\">\n      <th></th>\n      <th>img_name</th>\n      <th>Xmin</th>\n      <th>Ymin</th>\n      <th>Xmax</th>\n      <th>Ymax</th>\n      <th>AGB</th>\n      <th>carbon</th>\n    </tr>\n  </thead>\n  <tbody>\n    <tr>\n      <th>0</th>\n      <td>Carlos Vera Guevara RGB</td>\n      <td>3332.557861</td>\n      <td>8324.092411</td>\n      <td>3661.390137</td>\n      <td>8669.616425</td>\n      <td>4.293300</td>\n      <td>1.674387</td>\n    </tr>\n    <tr>\n      <th>1</th>\n      <td>Carlos Vera Guevara RGB</td>\n      <td>3162.579834</td>\n      <td>10453.233398</td>\n      <td>3431.632324</td>\n      <td>10684.467041</td>\n      <td>7.702971</td>\n      <td>3.004159</td>\n    </tr>\n    <tr>\n      <th>2</th>\n      <td>Carlos Vera Guevara RGB</td>\n      <td>2893.605713</td>\n      <td>8549.011108</td>\n      <td>3095.620605</td>\n      <td>8756.257812</td>\n      <td>6.769828</td>\n      <td>2.640233</td>\n    </tr>\n    <tr>\n      <th>3</th>\n      <td>Carlos Vera Guevara RGB</td>\n      <td>2595.111084</td>\n      <td>10008.712402</td>\n      <td>2765.227295</td>\n      <td>10170.253418</td>\n      <td>3.933601</td>\n      <td>1.534104</td>\n    </tr>\n    <tr>\n      <th>4</th>\n      <td>Carlos Vera Guevara RGB</td>\n      <td>7849.691879</td>\n      <td>7723.626862</td>\n      <td>8039.557648</td>\n      <td>7902.768402</td>\n      <td>13.862143</td>\n      <td>5.406236</td>\n    </tr>\n  </tbody>\n</table>\n</div>"
     },
     "execution_count": 103,
     "metadata": {},
     "output_type": "execute_result"
    }
   ],
   "source": [
    "my_df=  final_df[['img_name', 'Xmin', 'Ymin', 'Xmax', 'Ymax', 'AGB', 'carbon']]\n",
    "my_df.head()"
   ],
   "metadata": {
    "collapsed": false
   }
  },
  {
   "cell_type": "code",
   "execution_count": 104,
   "outputs": [
    {
     "name": "stdout",
     "output_type": "stream",
     "text": [
      "['Carlos Vera Arteaga RGB' 'Carlos Vera Guevara RGB' 'Flora Pluas RGB'\n",
      " 'Leonor Aspiazu RGB' 'Manuel Macias RGB' 'Nestor Macias RGB']\n"
     ]
    }
   ],
   "source": [
    "sites= np.unique(final_df[\"img_name\"])\n",
    "print(sites)"
   ],
   "metadata": {
    "collapsed": false
   }
  },
  {
   "cell_type": "code",
   "execution_count": 166,
   "outputs": [
    {
     "name": "stdout",
     "output_type": "stream",
     "text": [
      "Carlos Vera Arteaga RGB\n",
      "743\n",
      "(15053, 15297, 3) <class 'numpy.ndarray'>\n",
      "Carlos Vera Guevara RGB\n",
      "929\n",
      "(12305, 12425, 3) <class 'numpy.ndarray'>\n",
      "Flora Pluas RGB\n",
      "846\n",
      "(15578, 16782, 3) <class 'numpy.ndarray'>\n",
      "Leonor Aspiazu RGB\n",
      "789\n",
      "(13855, 17134, 3) <class 'numpy.ndarray'>\n",
      "Manuel Macias RGB\n",
      "484\n",
      "(10879, 13748, 3) <class 'numpy.ndarray'>\n",
      "Nestor Macias RGB\n",
      "872\n",
      "(13024, 15003, 3) <class 'numpy.ndarray'>\n"
     ]
    }
   ],
   "source": [
    "tree_crowns = pd.DataFrame([] ,columns=[\"tree_img\", \"coord\", \"site\", \"carbon\"])\n",
    "\n",
    "for site in sites:\n",
    "    print(site)\n",
    "    df_site= my_df[my_df['img_name']==site]\n",
    "    print(len(df_site))\n",
    "    image_site= cv2.imread(f\"/Users/victoriabarenne/ai4good/dataset/sites/{site}_unpadded_image.png\")\n",
    "    print(image_site.shape, type(image_site))\n",
    "    for i in range(len(df_site)):\n",
    "        tree_coord= np.array(my_df.iloc[i][['Xmin', 'Ymin', 'Xmax', 'Ymax']]).astype(int)\n",
    "        carbon= my_df.iloc[i]['carbon'].item()\n",
    "        tree_img= image_site[tree_coord[1]:tree_coord[3], tree_coord[0]:tree_coord[2], :]\n",
    "        new_df=pd.DataFrame([[tree_img, tree_coord, site, carbon]], columns=tree_crowns.columns)\n",
    "        tree_crowns=pd.concat([tree_crowns, new_df], ignore_index=True)\n"
   ],
   "metadata": {
    "collapsed": false
   }
  },
  {
   "cell_type": "code",
   "execution_count": 195,
   "outputs": [
    {
     "name": "stdout",
     "output_type": "stream",
     "text": [
      "(345, 329, 3)\n"
     ]
    }
   ],
   "source": [
    "print(tree_crowns[\"tree_img\"][0].shape)"
   ],
   "metadata": {
    "collapsed": false
   }
  },
  {
   "cell_type": "code",
   "execution_count": 168,
   "outputs": [
    {
     "data": {
      "text/plain": "<Figure size 640x480 with 1 Axes>",
      "image/png": "[encoded data removed]"
     },
     "metadata": {},
     "output_type": "display_data"
    }
   ],
   "source": [
    "white_percentage= np.zeros(len(tree_crowns))\n",
    "for i in range(len(tree_crowns)):\n",
    "    tree_img= tree_crowns.iloc[i][\"tree_img\"]\n",
    "    surface= tree_img.shape[0]*tree_img.shape[1]\n",
    "    if surface>0:\n",
    "        white_percentage[i]= np.sum(np.all(tree_img==0, axis=2))/surface\n",
    "    elif surface==0:\n",
    "        white_percentage[i]=1\n",
    "plt.hist(white_percentage)\n",
    "plt.show()"
   ],
   "metadata": {
    "collapsed": false
   }
  },
  {
   "cell_type": "code",
   "execution_count": 175,
   "outputs": [
    {
     "name": "stdout",
     "output_type": "stream",
     "text": [
      "Only 1529/4663 of the bounding boxes were inside the site boundaries\n"
     ]
    }
   ],
   "source": [
    "white_threshold= 0.8\n",
    "tree_crowns_filtered= tree_crowns.iloc[white_percentage<white_threshold]\n",
    "tree_crowns_filtered= tree_crowns_filtered.reset_index(drop=True)\n",
    "print(f\"Only {len(tree_crowns_filtered)}/{len(tree_crowns)} of the bounding boxes were inside the site boundaries\")"
   ],
   "metadata": {
    "collapsed": false
   }
  },
  {
   "cell_type": "code",
   "execution_count": 176,
   "outputs": [
    {
     "name": "stdout",
     "output_type": "stream",
     "text": [
      "Carlos Vera Arteaga RGB: 268/743 of the bounding boxes were inside the site boundaries\n",
      "Carlos Vera Guevara RGB: 244/929 of the bounding boxes were inside the site boundaries\n",
      "Flora Pluas RGB: 315/846 of the bounding boxes were inside the site boundaries\n",
      "Leonor Aspiazu RGB: 273/789 of the bounding boxes were inside the site boundaries\n",
      "Manuel Macias RGB: 164/484 of the bounding boxes were inside the site boundaries\n",
      "Nestor Macias RGB: 265/872 of the bounding boxes were inside the site boundaries\n"
     ]
    }
   ],
   "source": [
    "for site in sites:\n",
    "    tree_crowns_site=tree_crowns[tree_crowns[\"site\"]==site]\n",
    "    tree_crowns_filtered_site=tree_crowns_filtered[tree_crowns_filtered[\"site\"]==site]\n",
    "    print(f\"{site}: {len(tree_crowns_filtered_site)}/{len(tree_crowns_site)} of the bounding boxes were inside the site boundaries\")"
   ],
   "metadata": {
    "collapsed": false
   }
  },
  {
   "cell_type": "code",
   "execution_count": 179,
   "outputs": [
    {
     "data": {
      "text/plain": "                                            tree_img  \\\n0  [[[185, 212, 202], [148, 184, 177], [121, 145,...   \n1  [[[0, 0, 0], [0, 0, 0], [0, 0, 0], [0, 0, 0], ...   \n2  [[[168, 187, 207], [181, 196, 211], [196, 201,...   \n3  [[[0, 0, 0], [0, 0, 0], [0, 0, 0], [0, 0, 0], ...   \n4  [[[73, 134, 111], [167, 225, 209], [159, 209, ...   \n\n                        coord                     site    carbon  \n0    [3332, 8324, 3661, 8669]  Carlos Vera Arteaga RGB  1.674387  \n1  [3162, 10453, 3431, 10684]  Carlos Vera Arteaga RGB  3.004159  \n2    [7849, 7723, 8039, 7902]  Carlos Vera Arteaga RGB  5.406236  \n3    [7729, 2401, 7897, 2573]  Carlos Vera Arteaga RGB  3.079940  \n4    [9142, 3868, 9357, 3997]  Carlos Vera Arteaga RGB  5.825807  ",
      "text/html": "<div>\n<style scoped>\n    .dataframe tbody tr th:only-of-type {\n        vertical-align: middle;\n    }\n\n    .dataframe tbody tr th {\n        vertical-align: top;\n    }\n\n    .dataframe thead th {\n        text-align: right;\n    }\n</style>\n<table border=\"1\" class=\"dataframe\">\n  <thead>\n    <tr style=\"text-align: right;\">\n      <th></th>\n      <th>tree_img</th>\n      <th>coord</th>\n      <th>site</th>\n      <th>carbon</th>\n    </tr>\n  </thead>\n  <tbody>\n    <tr>\n      <th>0</th>\n      <td>[[[185, 212, 202], [148, 184, 177], [121, 145,...</td>\n      <td>[3332, 8324, 3661, 8669]</td>\n      <td>Carlos Vera Arteaga RGB</td>\n      <td>1.674387</td>\n    </tr>\n    <tr>\n      <th>1</th>\n      <td>[[[0, 0, 0], [0, 0, 0], [0, 0, 0], [0, 0, 0], ...</td>\n      <td>[3162, 10453, 3431, 10684]</td>\n      <td>Carlos Vera Arteaga RGB</td>\n      <td>3.004159</td>\n    </tr>\n    <tr>\n      <th>2</th>\n      <td>[[[168, 187, 207], [181, 196, 211], [196, 201,...</td>\n      <td>[7849, 7723, 8039, 7902]</td>\n      <td>Carlos Vera Arteaga RGB</td>\n      <td>5.406236</td>\n    </tr>\n    <tr>\n      <th>3</th>\n      <td>[[[0, 0, 0], [0, 0, 0], [0, 0, 0], [0, 0, 0], ...</td>\n      <td>[7729, 2401, 7897, 2573]</td>\n      <td>Carlos Vera Arteaga RGB</td>\n      <td>3.079940</td>\n    </tr>\n    <tr>\n      <th>4</th>\n      <td>[[[73, 134, 111], [167, 225, 209], [159, 209, ...</td>\n      <td>[9142, 3868, 9357, 3997]</td>\n      <td>Carlos Vera Arteaga RGB</td>\n      <td>5.825807</td>\n    </tr>\n  </tbody>\n</table>\n</div>"
     },
     "execution_count": 179,
     "metadata": {},
     "output_type": "execute_result"
    }
   ],
   "source": [
    "tree_crowns_filtered.head()\n"
   ],
   "metadata": {
    "collapsed": false
   }
  },
  {
   "cell_type": "code",
   "execution_count": 184,
   "outputs": [
    {
     "name": "stdout",
     "output_type": "stream",
     "text": [
      "1529 1529\n"
     ]
    }
   ],
   "source": [
    "transform= Compose([ToTensor(), CenterCrop(800)])\n",
    "tree_crowns_final=pd.DataFrame([], columns=[\"tree_img\", \"site\", \"carbon\"])\n",
    "\n",
    "for i in range(len(tree_crowns_filtered)):\n",
    "    tree_img= tree_crowns_filtered.iloc[i][\"tree_img\"]\n",
    "    transformed_img= transform(tree_img)\n",
    "    site = tree_crowns_filtered[\"site\"][i]\n",
    "    carbon= tree_crowns_filtered[\"carbon\"][i]\n",
    "\n",
    "    new_df=pd.DataFrame([[transformed_img, site, carbon]], columns=tree_crowns_final.columns)\n",
    "    tree_crowns_final=pd.concat([tree_crowns_final, new_df], ignore_index=True)\n",
    "\n",
    "print(len(tree_crowns_final), len(tree_crowns_filtered))\n",
    "\n"
   ],
   "metadata": {
    "collapsed": false
   }
  },
  {
   "cell_type": "code",
   "execution_count": 185,
   "outputs": [
    {
     "name": "stdout",
     "output_type": "stream",
     "text": [
      "torch.Size([3, 800, 800])\n"
     ]
    },
    {
     "data": {
      "text/plain": "                                            tree_img                     site  \\\n0  [[[tensor(0.), tensor(0.), tensor(0.), tensor(...  Carlos Vera Arteaga RGB   \n1  [[[tensor(0.), tensor(0.), tensor(0.), tensor(...  Carlos Vera Arteaga RGB   \n2  [[[tensor(0.), tensor(0.), tensor(0.), tensor(...  Carlos Vera Arteaga RGB   \n3  [[[tensor(0.), tensor(0.), tensor(0.), tensor(...  Carlos Vera Arteaga RGB   \n4  [[[tensor(0.), tensor(0.), tensor(0.), tensor(...  Carlos Vera Arteaga RGB   \n\n     carbon  \n0  1.674387  \n1  3.004159  \n2  5.406236  \n3  3.079940  \n4  5.825807  ",
      "text/html": "<div>\n<style scoped>\n    .dataframe tbody tr th:only-of-type {\n        vertical-align: middle;\n    }\n\n    .dataframe tbody tr th {\n        vertical-align: top;\n    }\n\n    .dataframe thead th {\n        text-align: right;\n    }\n</style>\n<table border=\"1\" class=\"dataframe\">\n  <thead>\n    <tr style=\"text-align: right;\">\n      <th></th>\n      <th>tree_img</th>\n      <th>site</th>\n      <th>carbon</th>\n    </tr>\n  </thead>\n  <tbody>\n    <tr>\n      <th>0</th>\n      <td>[[[tensor(0.), tensor(0.), tensor(0.), tensor(...</td>\n      <td>Carlos Vera Arteaga RGB</td>\n      <td>1.674387</td>\n    </tr>\n    <tr>\n      <th>1</th>\n      <td>[[[tensor(0.), tensor(0.), tensor(0.), tensor(...</td>\n      <td>Carlos Vera Arteaga RGB</td>\n      <td>3.004159</td>\n    </tr>\n    <tr>\n      <th>2</th>\n      <td>[[[tensor(0.), tensor(0.), tensor(0.), tensor(...</td>\n      <td>Carlos Vera Arteaga RGB</td>\n      <td>5.406236</td>\n    </tr>\n    <tr>\n      <th>3</th>\n      <td>[[[tensor(0.), tensor(0.), tensor(0.), tensor(...</td>\n      <td>Carlos Vera Arteaga RGB</td>\n      <td>3.079940</td>\n    </tr>\n    <tr>\n      <th>4</th>\n      <td>[[[tensor(0.), tensor(0.), tensor(0.), tensor(...</td>\n      <td>Carlos Vera Arteaga RGB</td>\n      <td>5.825807</td>\n    </tr>\n  </tbody>\n</table>\n</div>"
     },
     "execution_count": 185,
     "metadata": {},
     "output_type": "execute_result"
    }
   ],
   "source": [
    "print(tree_crowns_final[\"tree_img\"][0].shape)\n",
    "tree_crowns_final.head()"
   ],
   "metadata": {
    "collapsed": false
   }
  },
  {
   "cell_type": "code",
   "execution_count": 189,
   "outputs": [
    {
     "name": "stdout",
     "output_type": "stream",
     "text": [
      "1017 268 244\n"
     ]
    }
   ],
   "source": [
    "train, val, test= create_split_dataframe(\"\", tree_crowns_filtered, [4,1,1])\n",
    "print(len(train), len(val), len(test))\n"
   ],
   "metadata": {
    "collapsed": false
   }
  },
  {
   "cell_type": "code",
   "execution_count": 191,
   "outputs": [],
   "source": [
    "class TreeCrown(Dataset):\n",
    "    def __init__(self, df, transform=None):\n",
    "        self.df = df\n",
    "        self.transform= transform\n",
    "\n",
    "    def __len__(self):\n",
    "        return len(self.df)\n",
    "\n",
    "    def __getitem__(self, item):\n",
    "        \"\"\"\n",
    "        Loading samples based on the information contained\n",
    "        in self.df.\n",
    "        \"\"\"\n",
    "        site = self.df[\"site\"][item]\n",
    "        image = self.df[\"tree_img\"][item]\n",
    "        carbon = self.df[\"carbon\"][item]\n",
    "\n",
    "\n",
    "        if self.transform is not None:\n",
    "            image = self.transform(image)\n",
    "\n",
    "        return image, carbon, site\n"
   ],
   "metadata": {
    "collapsed": false
   }
  },
  {
   "cell_type": "code",
   "execution_count": 192,
   "outputs": [],
   "source": [
    "def train_val_test_dataset(data:pd.DataFrame, splits, transform):\n",
    "    train, val, test= create_split_dataframe(\"\", data, splits)\n",
    "    train_dataset= TreeCrown(train, transform)\n",
    "    val_dataset = TreeCrown(val, transform)\n",
    "    test_dataset = TreeCrown(test, transform)\n",
    "\n",
    "    return train_dataset, val_dataset, test_dataset\n",
    "\n",
    "def train_val_test_dataloader(data: pd.DataFrame, splits, batch_size, transform=None):\n",
    "    train_dataset, val_dataset, test_dataset= train_val_test_dataset( data, splits, transform)\n",
    "    train_loader = DataLoader(train_dataset, batch_size=batch_size, shuffle=True)\n",
    "    val_loader = DataLoader(val_dataset, batch_size=batch_size, shuffle=True)\n",
    "    test_loader = DataLoader(test_dataset, batch_size=batch_size, shuffle=True)\n",
    "\n",
    "    return train_loader, val_loader, test_loader\n"
   ],
   "metadata": {
    "collapsed": false
   }
  },
  {
   "cell_type": "code",
   "execution_count": 204,
   "outputs": [],
   "source": [
    "train_loader, val_loader, test_loader= train_val_test_dataloader(tree_crowns_final, splits=[4,1,1], batch_size=32, transform=Resize(224))"
   ],
   "metadata": {
    "collapsed": false
   }
  },
  {
   "cell_type": "code",
   "execution_count": 214,
   "outputs": [
    {
     "name": "stdout",
     "output_type": "stream",
     "text": [
      "torch.Size([32, 3, 224, 224]) torch.Size([32])\n"
     ]
    }
   ],
   "source": [
    "tree_img_sampled, carbon_sample, site_sample= next(iter(train_loader))\n",
    "print(tree_img_sampled.shape, carbon_sample.shape)"
   ],
   "metadata": {
    "collapsed": false
   }
  }
 ],
 "metadata": {
  "kernelspec": {
   "display_name": "Python 3",
   "language": "python",
   "name": "python3"
  },
  "language_info": {
   "codemirror_mode": {
    "name": "ipython",
    "version": 2
   },
   "file_extension": ".py",
   "mimetype": "text/x-python",
   "name": "python",
   "nbconvert_exporter": "python",
   "pygments_lexer": "ipython2",
   "version": "2.7.6"
  }
 },
 "nbformat": 4,
 "nbformat_minor": 0
}
